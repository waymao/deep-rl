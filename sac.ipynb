{
 "cells": [
  {
   "cell_type": "code",
   "execution_count": 76,
   "metadata": {},
   "outputs": [
    {
     "name": "stdout",
     "output_type": "stream",
     "text": [
      "The autoreload extension is already loaded. To reload it, use:\n",
      "  %reload_ext autoreload\n"
     ]
    }
   ],
   "source": [
    "%load_ext autoreload\n",
    "%autoreload 2"
   ]
  },
  {
   "cell_type": "code",
   "execution_count": 77,
   "metadata": {},
   "outputs": [],
   "source": [
    "from matplotlib import pyplot as plt"
   ]
  },
  {
   "cell_type": "code",
   "execution_count": 78,
   "metadata": {},
   "outputs": [],
   "source": [
    "import random\n",
    "import numpy as np\n",
    "import torch\n",
    "import gymnasium as gym\n",
    "from policies.network import get_MLP\n",
    "from utils.replay_buffer import ReplayBuffer"
   ]
  },
  {
   "cell_type": "markdown",
   "metadata": {},
   "source": [
    "# SAC"
   ]
  },
  {
   "cell_type": "markdown",
   "metadata": {},
   "source": [
    "### Initialize"
   ]
  },
  {
   "cell_type": "code",
   "execution_count": 79,
   "metadata": {},
   "outputs": [
    {
     "data": {
      "text/plain": [
       "(array([ 0.6520163 ,  0.758205  , -0.46042657], dtype=float32), {})"
      ]
     },
     "execution_count": 79,
     "metadata": {},
     "output_type": "execute_result"
    }
   ],
   "source": [
    "\n",
    "from utils.replay_buffer import ReplayBuffer\n",
    "from torch import nn\n",
    "from policies.sac import SAC\n",
    "from policies.actor.continuous_actor import ContinuousSoftActor\n",
    "env = gym.make('Pendulum-v1', max_episode_steps=200)\n",
    "env.reset(seed=0)\n"
   ]
  },
  {
   "cell_type": "code",
   "execution_count": 80,
   "metadata": {},
   "outputs": [],
   "source": [
    "actor_module = ContinuousSoftActor(state_dim=3, \n",
    "                                   action_dim=1, \n",
    "                                   act_bias=np.array([0]),\n",
    "                                   act_scale=np.array([2]))\n",
    "critic_module = get_MLP(\n",
    "    num_features=3 + 1,\n",
    "    num_actions=1,\n",
    "    hidden_layers=[128]\n",
    ")\n",
    "critic2_module = get_MLP(\n",
    "    num_features=3 + 1,\n",
    "    num_actions=1,\n",
    "    hidden_layers=[128]\n",
    ")\n",
    "sac_policy = SAC(\n",
    "    q1=critic_module,\n",
    "    q2=critic2_module,\n",
    "    pi=actor_module,\n",
    "    state_dim=3,\n",
    "    action_dim=1,\n",
    "    lr_q=1e-4,\n",
    "    lr_pi=1e-4,\n",
    "    auto_alpha=True\n",
    ")\n",
    "results_sac = []"
   ]
  },
  {
   "cell_type": "markdown",
   "metadata": {},
   "source": [
    "### Compute"
   ]
  },
  {
   "cell_type": "code",
   "execution_count": 81,
   "metadata": {},
   "outputs": [
    {
     "name": "stdout",
     "output_type": "stream",
     "text": [
      "epi: 0; len: 200; return: -1068.5549880588576\n",
      "epi: 1; len: 200; return: -1028.684377279125\n",
      "epi: 2; len: 200; return: -1415.044237840663\n",
      "epi: 3; len: 200; return: -1493.917381939243\n",
      "epi: 4; len: 200; return: -1426.922664138777\n",
      "epi: 5; len: 200; return: -1417.737340630197\n",
      "epi: 6; len: 200; return: -1311.0933582000355\n",
      "epi: 7; len: 200; return: -1235.603758139541\n",
      "epi: 8; len: 200; return: -1226.0718666872783\n",
      "epi: 9; len: 200; return: -1198.9560522635943\n",
      "epi: 10; len: 200; return: -1463.606378632664\n",
      "epi: 11; len: 200; return: -1554.7420144091648\n",
      "epi: 12; len: 200; return: -1555.2163175652922\n",
      "epi: 13; len: 200; return: -1552.5227108487336\n",
      "epi: 14; len: 200; return: -1531.450583473187\n",
      "epi: 15; len: 200; return: -1516.8404435129303\n",
      "epi: 16; len: 200; return: -1515.5736317593062\n",
      "epi: 17; len: 200; return: -1515.1870853669016\n",
      "epi: 18; len: 200; return: -1510.9657480122842\n",
      "epi: 19; len: 200; return: -1507.5553716040865\n",
      "epi: 20; len: 200; return: -1494.112679046889\n"
     ]
    },
    {
     "ename": "KeyboardInterrupt",
     "evalue": "",
     "output_type": "error",
     "traceback": [
      "\u001b[0;31m---------------------------------------------------------------------------\u001b[0m",
      "\u001b[0;31mKeyboardInterrupt\u001b[0m                         Traceback (most recent call last)",
      "\u001b[1;32m/Users/yichen/Documents/SchoolWk/research/rl-learn/sac.ipynb Cell 9\u001b[0m line \u001b[0;36m2\n\u001b[1;32m     <a href='vscode-notebook-cell:/Users/yichen/Documents/SchoolWk/research/rl-learn/sac.ipynb#X11sZmlsZQ%3D%3D?line=19'>20</a>\u001b[0m     \u001b[39mif\u001b[39;00m buffer\u001b[39m.\u001b[39msize() \u001b[39m>\u001b[39m minimal_size:\n\u001b[1;32m     <a href='vscode-notebook-cell:/Users/yichen/Documents/SchoolWk/research/rl-learn/sac.ipynb#X11sZmlsZQ%3D%3D?line=20'>21</a>\u001b[0m         sampled \u001b[39m=\u001b[39m buffer\u001b[39m.\u001b[39msample(batch_size)\n\u001b[0;32m---> <a href='vscode-notebook-cell:/Users/yichen/Documents/SchoolWk/research/rl-learn/sac.ipynb#X11sZmlsZQ%3D%3D?line=21'>22</a>\u001b[0m         sac_policy\u001b[39m.\u001b[39;49mupdate(sampled)\n\u001b[1;32m     <a href='vscode-notebook-cell:/Users/yichen/Documents/SchoolWk/research/rl-learn/sac.ipynb#X11sZmlsZQ%3D%3D?line=23'>24</a>\u001b[0m \u001b[39mprint\u001b[39m(\u001b[39m\"\u001b[39m\u001b[39mepi: \u001b[39m\u001b[39m{}\u001b[39;00m\u001b[39m; len: \u001b[39m\u001b[39m{}\u001b[39;00m\u001b[39m; return: \u001b[39m\u001b[39m{}\u001b[39;00m\u001b[39m\"\u001b[39m\u001b[39m.\u001b[39mformat(epi, epi_len, total_return))\n\u001b[1;32m     <a href='vscode-notebook-cell:/Users/yichen/Documents/SchoolWk/research/rl-learn/sac.ipynb#X11sZmlsZQ%3D%3D?line=24'>25</a>\u001b[0m results_sac\u001b[39m.\u001b[39mappend((epi_len, total_return))\n",
      "File \u001b[0;32m~/research/rl-learn/policies/sac.py:87\u001b[0m, in \u001b[0;36mSAC.update\u001b[0;34m(self, batch)\u001b[0m\n\u001b[1;32m     85\u001b[0m \u001b[39m# q for next state using newly sampled actions.\u001b[39;00m\n\u001b[1;32m     86\u001b[0m \u001b[39mwith\u001b[39;00m torch\u001b[39m.\u001b[39mno_grad():\n\u001b[0;32m---> 87\u001b[0m     a_next_NA, log_prob_NA, _ \u001b[39m=\u001b[39m \u001b[39mself\u001b[39;49m\u001b[39m.\u001b[39;49mpi\u001b[39m.\u001b[39;49mget_action(s2_NS)\n\u001b[1;32m     88\u001b[0m     q1_next_NA \u001b[39m=\u001b[39m \u001b[39mself\u001b[39m\u001b[39m.\u001b[39mq1_target(torch\u001b[39m.\u001b[39mconcat([s2_NS, a_next_NA], dim\u001b[39m=\u001b[39m\u001b[39m1\u001b[39m))\n\u001b[1;32m     89\u001b[0m     q2_next_NA \u001b[39m=\u001b[39m \u001b[39mself\u001b[39m\u001b[39m.\u001b[39mq2_target(torch\u001b[39m.\u001b[39mconcat([s2_NS, a_next_NA], dim\u001b[39m=\u001b[39m\u001b[39m1\u001b[39m))\n",
      "File \u001b[0;32m~/research/rl-learn/policies/actor/continuous_actor.py:48\u001b[0m, in \u001b[0;36mContinuousSoftActor.get_action\u001b[0;34m(self, x)\u001b[0m\n\u001b[1;32m     46\u001b[0m mean, log_std \u001b[39m=\u001b[39m \u001b[39mself\u001b[39m(x)\n\u001b[1;32m     47\u001b[0m std \u001b[39m=\u001b[39m log_std\u001b[39m.\u001b[39mexp()\n\u001b[0;32m---> 48\u001b[0m normal \u001b[39m=\u001b[39m torch\u001b[39m.\u001b[39;49mdistributions\u001b[39m.\u001b[39;49mNormal(mean, std)\n\u001b[1;32m     49\u001b[0m x_t \u001b[39m=\u001b[39m normal\u001b[39m.\u001b[39mrsample()  \u001b[39m# for reparameterization trick (mean + std * N(0,1))\u001b[39;00m\n\u001b[1;32m     50\u001b[0m y_t \u001b[39m=\u001b[39m torch\u001b[39m.\u001b[39mtanh(x_t)\n",
      "File \u001b[0;32m/opt/homebrew/Caskroom/miniconda/base/envs/novel_gym/lib/python3.10/site-packages/torch/distributions/normal.py:50\u001b[0m, in \u001b[0;36mNormal.__init__\u001b[0;34m(self, loc, scale, validate_args)\u001b[0m\n\u001b[1;32m     46\u001b[0m \u001b[39m@property\u001b[39m\n\u001b[1;32m     47\u001b[0m \u001b[39mdef\u001b[39;00m \u001b[39mvariance\u001b[39m(\u001b[39mself\u001b[39m):\n\u001b[1;32m     48\u001b[0m     \u001b[39mreturn\u001b[39;00m \u001b[39mself\u001b[39m\u001b[39m.\u001b[39mstddev\u001b[39m.\u001b[39mpow(\u001b[39m2\u001b[39m)\n\u001b[0;32m---> 50\u001b[0m \u001b[39mdef\u001b[39;00m \u001b[39m__init__\u001b[39m(\u001b[39mself\u001b[39m, loc, scale, validate_args\u001b[39m=\u001b[39m\u001b[39mNone\u001b[39;00m):\n\u001b[1;32m     51\u001b[0m     \u001b[39mself\u001b[39m\u001b[39m.\u001b[39mloc, \u001b[39mself\u001b[39m\u001b[39m.\u001b[39mscale \u001b[39m=\u001b[39m broadcast_all(loc, scale)\n\u001b[1;32m     52\u001b[0m     \u001b[39mif\u001b[39;00m \u001b[39misinstance\u001b[39m(loc, Number) \u001b[39mand\u001b[39;00m \u001b[39misinstance\u001b[39m(scale, Number):\n",
      "\u001b[0;31mKeyboardInterrupt\u001b[0m: "
     ]
    }
   ],
   "source": [
    "buffer = ReplayBuffer(capacity=10000)\n",
    "minimal_size = 100\n",
    "batch_size = 64\n",
    "\n",
    "for epi in range(500):\n",
    "    observation, info = env.reset(seed=0)\n",
    "    terminated = False\n",
    "    truncated = False\n",
    "    epi_len = 0\n",
    "    total_return = 0\n",
    "\n",
    "    while not terminated and not truncated:\n",
    "        action = sac_policy(torch.from_numpy(observation.reshape(1, -1)))\n",
    "        prev_obs = observation\n",
    "        observation, reward, terminated, truncated, info = env.step(action.detach().numpy().reshape(-1))\n",
    "        buffer.add(prev_obs, action, reward, observation, terminated, truncated)\n",
    "        epi_len += 1\n",
    "        total_return += reward\n",
    "\n",
    "        if buffer.size() > minimal_size:\n",
    "            sampled = buffer.sample(batch_size)\n",
    "            sac_policy.update(sampled)\n",
    "    \n",
    "    print(\"epi: {}; len: {}; return: {}\".format(epi, epi_len, total_return))\n",
    "    results_sac.append((epi_len, total_return))\n",
    "env.close()\n"
   ]
  },
  {
   "cell_type": "code",
   "execution_count": null,
   "metadata": {},
   "outputs": [],
   "source": [
    "observation, info = env.reset(seed=0)\n",
    "total_return = 0\n",
    "epi_len = 0\n",
    "\n",
    "for epi in range(200):\n",
    "    states, rewards, actions, next_states, terminations = [], [], [], [], []\n",
    "    # while not terminated and not truncated:\n",
    "    for timestep in range(128):\n",
    "        action = sac_policy(observation)\n",
    "        prev_obs = observation\n",
    "        observation, reward, terminated, truncated, info = env.step(torch.from_numpy(action))\n",
    "\n",
    "        states.append(prev_obs)\n",
    "        rewards.append(reward)\n",
    "        actions.append(action)\n",
    "        next_states.append(observation)\n",
    "        terminations.append(terminated)\n",
    "        \n",
    "        total_return += reward\n",
    "        epi_len += 1\n",
    "        if terminated or truncated:\n",
    "            print(\"len: {}; return: {}\".format(epi_len, total_return))\n",
    "            results_sac.append((epi_len, total_return))\n",
    "            total_return = 0\n",
    "            epi_len = 0\n",
    "            env.reset()\n",
    "\n",
    "    print(\"update\")\n",
    "    sac_policy.learn(\n",
    "        torch.from_numpy(np.array(states, copy=False)),\n",
    "        torch.from_numpy(np.array(actions, copy=False)),\n",
    "        torch.from_numpy(np.array(next_states, copy=False)),\n",
    "        torch.from_numpy(np.array(rewards, copy=False)),\n",
    "        torch.from_numpy(np.array(terminations, copy=False))\n",
    "    )\n",
    "    \n",
    "    \n",
    "env.close()\n"
   ]
  },
  {
   "cell_type": "code",
   "execution_count": 52,
   "metadata": {},
   "outputs": [
    {
     "data": {
      "text/plain": [
       "Text(0, 0.5, 'Reward')"
      ]
     },
     "execution_count": 52,
     "metadata": {},
     "output_type": "execute_result"
    },
    {
     "data": {
      "image/png": "[encoded data removed]",
      "text/plain": [
       "<Figure size 640x480 with 1 Axes>"
      ]
     },
     "metadata": {},
     "output_type": "display_data"
    }
   ],
   "source": [
    "plt.plot([p[1] for p in results_sac])\n",
    "plt.title(\"SAC\")\n",
    "plt.xlabel(\"Episodes\")\n",
    "plt.ylabel(\"Reward\")"
   ]
  },
  {
   "cell_type": "code",
   "execution_count": null,
   "metadata": {},
   "outputs": [],
   "source": []
  }
 ],
 "metadata": {
  "kernelspec": {
   "display_name": "env",
   "language": "python",
   "name": "python3"
  },
  "language_info": {
   "codemirror_mode": {
    "name": "ipython",
    "version": 3
   },
   "file_extension": ".py",
   "mimetype": "text/x-python",
   "name": "python",
   "nbconvert_exporter": "python",
   "pygments_lexer": "ipython3",
   "version": "3.10.12"
  },
  "orig_nbformat": 4
 },
 "nbformat": 4,
 "nbformat_minor": 2
}
